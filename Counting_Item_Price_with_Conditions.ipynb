{
  "nbformat": 4,
  "nbformat_minor": 0,
  "metadata": {
    "colab": {
      "name": "Week4_Homework1.ipynb",
      "provenance": []
    },
    "kernelspec": {
      "name": "python3",
      "display_name": "Python 3"
    },
    "language_info": {
      "name": "python"
    }
  },
  "cells": [
    {
      "cell_type": "markdown",
      "metadata": {
        "id": "xeNpFmHAoUZF"
      },
      "source": [
        "## Program Hitung Harga Barang Setelah Diskon"
      ]
    },
    {
      "cell_type": "code",
      "metadata": {
        "colab": {
          "base_uri": "https://localhost:8080/"
        },
        "id": "GfxzoZ1noS-D",
        "outputId": "e21de820-36ce-4690-f008-e30a92d00140"
      },
      "source": [
        "harga = int(input(\"Masukan Harga Barang: \"))\n",
        "if harga > 500000:\n",
        "    total_harga = harga - (0.25 * harga)\n",
        "    print(\"Harga barang setelah diskon adalah:\",int(total_harga))\n",
        "elif harga > 200000 and harga <= 500000:\n",
        "    total_harga = harga - (0.20 * harga)\n",
        "    print(\"Harga barang setelah diskon adalah:\",int(total_harga))\n",
        "elif harga > 100000 and harga <= 200000:\n",
        "    total_harga = harga - (0.15 * harga)\n",
        "    print(\"Harga barang setelah diskon adalah:\",int(total_harga))\n",
        "elif harga > 50000 and harga <= 100000:\n",
        "    total_harga = harga - (0.10 * harga)\n",
        "    print(\"Harga barang setelah diskon adalah:\",int(total_harga))\n",
        "else:\n",
        "    total_harga = harga - (0.05 * harga)\n",
        "    print(\"Harga barang setelah diskon adalah:\",int(total_harga))"
      ],
      "execution_count": null,
      "outputs": [
        {
          "output_type": "stream",
          "text": [
            "Masukan Harga Barang: 500001\n"
          ],
          "name": "stdout"
        }
      ]
    },
    {
      "cell_type": "code",
      "metadata": {
        "id": "ho0CJCczXTse"
      },
      "source": [
        ""
      ],
      "execution_count": null,
      "outputs": []
    }
  ]
}