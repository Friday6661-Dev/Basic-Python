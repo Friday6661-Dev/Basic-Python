{
  "nbformat": 4,
  "nbformat_minor": 0,
  "metadata": {
    "colab": {
      "name": "Untitled5.ipynb",
      "provenance": [],
      "authorship_tag": "ABX9TyOqsg8NEtFeKRVp6trxQAwQ"
    },
    "kernelspec": {
      "name": "python3",
      "display_name": "Python 3"
    },
    "language_info": {
      "name": "python"
    }
  },
  "cells": [
    {
      "cell_type": "markdown",
      "metadata": {
        "id": "atpSiOgejvur"
      },
      "source": [
        "# Basic Python"
      ]
    },
    {
      "cell_type": "markdown",
      "metadata": {
        "id": "FtVvfURej0Cq"
      },
      "source": [
        "## Menulis 'Hello World!!!'"
      ]
    },
    {
      "cell_type": "code",
      "metadata": {
        "colab": {
          "base_uri": "https://localhost:8080/"
        },
        "id": "64RyE8aPjtQn",
        "outputId": "4623ab2c-96e6-44a1-97dd-8bb3ff72cca9"
      },
      "source": [
        "print('Hello World!!!')"
      ],
      "execution_count": 1,
      "outputs": [
        {
          "output_type": "stream",
          "name": "stdout",
          "text": [
            "Hello World!!!\n"
          ]
        }
      ]
    },
    {
      "cell_type": "markdown",
      "metadata": {
        "id": "W3JTxu2qk_aa"
      },
      "source": [
        "## Default akhir dari fungsi print adalah newline (\\n)"
      ]
    },
    {
      "cell_type": "code",
      "metadata": {
        "colab": {
          "base_uri": "https://localhost:8080/"
        },
        "id": "MKFn33J8kBs0",
        "outputId": "82ab2c1a-c1b2-4631-dcd3-4e22e79c9210"
      },
      "source": [
        "print('Hello')\n",
        "print('world')"
      ],
      "execution_count": 2,
      "outputs": [
        {
          "output_type": "stream",
          "name": "stdout",
          "text": [
            "Hello\n",
            "world\n"
          ]
        }
      ]
    },
    {
      "cell_type": "markdown",
      "metadata": {
        "id": "pCsZzsH5lzkU"
      },
      "source": [
        "## Mengubah Default Akhir dari Fungsi print"
      ]
    },
    {
      "cell_type": "code",
      "metadata": {
        "colab": {
          "base_uri": "https://localhost:8080/"
        },
        "id": "w5amngnrlRsp",
        "outputId": "24eb5165-fb69-42a1-c551-1a102c4a899c"
      },
      "source": [
        "# Mengakhiri dengan whitespace\n",
        "print(\"hello\", end = \" \")\n",
        "print(\"world\")\n",
        "\n",
        "# Mengakhiri tanpa whitespace\n",
        "print(\"hello\", end = \"\")\n",
        "print(\"world\")"
      ],
      "execution_count": 3,
      "outputs": [
        {
          "output_type": "stream",
          "name": "stdout",
          "text": [
            "hello world\n",
            "helloworld\n"
          ]
        }
      ]
    },
    {
      "cell_type": "markdown",
      "metadata": {
        "id": "2_LTFL1jAavS"
      },
      "source": [
        "##Memasukkan Variable di antara String dalam print"
      ]
    },
    {
      "cell_type": "code",
      "metadata": {
        "colab": {
          "base_uri": "https://localhost:8080/"
        },
        "id": "szcbEEIrmQs_",
        "outputId": "2192222b-4af4-4abf-909d-1342458a26ce"
      },
      "source": [
        "text = \"aloha\"\n",
        "angka = 5\n",
        "print(\"hello\", text, \"world\")\n",
        "print(\"hello\", angka, \"world\")"
      ],
      "execution_count": 4,
      "outputs": [
        {
          "output_type": "stream",
          "name": "stdout",
          "text": [
            "hello aloha world\n",
            "hello 5 world\n"
          ]
        }
      ]
    },
    {
      "cell_type": "markdown",
      "metadata": {
        "id": "pxgaFCQXA1D4"
      },
      "source": [
        "##Memasukkan Lebih dari 1 Variable dalam print"
      ]
    },
    {
      "cell_type": "code",
      "metadata": {
        "colab": {
          "base_uri": "https://localhost:8080/"
        },
        "id": "6AbOIpVNAurj",
        "outputId": "962ad1e4-90d6-4ac1-c0c7-28eab88972e0"
      },
      "source": [
        "x = 4\n",
        "y = 18\n",
        "z = x+y\n",
        "print(\"hasil penambahan %s dengan %s adalah %s\" % (x,y,z))"
      ],
      "execution_count": 5,
      "outputs": [
        {
          "output_type": "stream",
          "name": "stdout",
          "text": [
            "hasil penambahan 4 dengan 18 adalah 22\n"
          ]
        }
      ]
    },
    {
      "cell_type": "markdown",
      "metadata": {
        "id": "j3Txs6k5BDTM"
      },
      "source": [
        "#Menerima Inputan dari Pengguna"
      ]
    },
    {
      "cell_type": "code",
      "metadata": {
        "colab": {
          "base_uri": "https://localhost:8080/"
        },
        "id": "CoqqjGDfA-uU",
        "outputId": "c6d70956-8cb1-406b-bb2c-285c28510687"
      },
      "source": [
        "var1 = print(input(\"input disini: \"))\n",
        "print(var1)"
      ],
      "execution_count": 6,
      "outputs": [
        {
          "output_type": "stream",
          "name": "stdout",
          "text": [
            "input disini: 123\n",
            "123\n",
            "None\n"
          ]
        }
      ]
    },
    {
      "cell_type": "markdown",
      "metadata": {
        "id": "18VY10d-BaL4"
      },
      "source": [
        "##Menerima Inputan dari Pengguna berupa Integer"
      ]
    },
    {
      "cell_type": "code",
      "metadata": {
        "colab": {
          "base_uri": "https://localhost:8080/"
        },
        "id": "jJ3_88EZBL1N",
        "outputId": "5769a13d-2cc9-4655-d019-e77bd98bdf46"
      },
      "source": [
        "var1 = int(input(\"input disini 1: \"))\n",
        "var2 = int(input(\"input disini 2: \"))\n",
        "print(\"hasil tambah: \",var1+var2)\n"
      ],
      "execution_count": 7,
      "outputs": [
        {
          "output_type": "stream",
          "name": "stdout",
          "text": [
            "input disini 1: 1\n",
            "input disini 2: 3\n",
            "hasil tambah:  4\n"
          ]
        }
      ]
    },
    {
      "cell_type": "markdown",
      "metadata": {
        "id": "BFx12R9tBoxy"
      },
      "source": [
        "##Aritmatika dalam Python"
      ]
    },
    {
      "cell_type": "code",
      "metadata": {
        "colab": {
          "base_uri": "https://localhost:8080/"
        },
        "id": "Tdtu8htuBp9C",
        "outputId": "2e91291c-7270-4ae9-e083-c5bb6cfae3b5"
      },
      "source": [
        "a = 3\n",
        "b = 5\n",
        "c = 7\n",
        "z = c/a\n",
        "\n",
        "print(a+b)\n",
        "print(a-b)\n",
        "print(b-a)\n",
        "print(a*b)\n",
        "print(c/a)\n",
        "print(\"\\n\")\n",
        "\n",
        "#modulo (sisa bagi)\n",
        "print(\"sisa bagi\",c%a)\n",
        "print(\"\\n\")\n",
        "\n",
        "#mengubah tipe data\n",
        "print(float(a+b))\n",
        "print(round(float(c/a),2))\n",
        "\n",
        "print(str(c/a))\n",
        "\n",
        "#penambahan dalam string artinya \"append\"\n",
        "x = \"hallo\"\n",
        "y = \"world\"\n",
        "print (x+y+\"\\n\")\n",
        "\n",
        "z = str(c/a)\n",
        "w = '600'\n",
        "\n",
        "print(type(w))\n",
        "print(z+w)"
      ],
      "execution_count": 8,
      "outputs": [
        {
          "output_type": "stream",
          "name": "stdout",
          "text": [
            "8\n",
            "-2\n",
            "2\n",
            "15\n",
            "2.3333333333333335\n",
            "\n",
            "\n",
            "sisa bagi 1\n",
            "\n",
            "\n",
            "8.0\n",
            "2.33\n",
            "2.3333333333333335\n",
            "halloworld\n",
            "\n",
            "<class 'str'>\n",
            "2.3333333333333335600\n"
          ]
        }
      ]
    },
    {
      "cell_type": "code",
      "metadata": {
        "id": "QCNGuwoDBxu2"
      },
      "source": [
        ""
      ],
      "execution_count": null,
      "outputs": []
    }
  ]
}