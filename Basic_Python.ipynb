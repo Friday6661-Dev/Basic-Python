{
  "nbformat": 4,
  "nbformat_minor": 0,
  "metadata": {
    "colab": {
      "name": "Untitled5.ipynb",
      "provenance": [],
      "authorship_tag": "ABX9TyMxVj0ngozsLByukeWlL5Jk",
      "include_colab_link": true
    },
    "kernelspec": {
      "name": "python3",
      "display_name": "Python 3"
    },
    "language_info": {
      "name": "python"
    }
  },
  "cells": [
    {
      "cell_type": "markdown",
      "metadata": {
        "id": "view-in-github",
        "colab_type": "text"
      },
      "source": [
        "<a href=\"https://colab.research.google.com/github/Fridaya6661-Dev/Basic-Python/blob/main/Basic_Python.ipynb\" target=\"_parent\"><img src=\"https://colab.research.google.com/assets/colab-badge.svg\" alt=\"Open In Colab\"/></a>"
      ]
    },
    {
      "cell_type": "markdown",
      "metadata": {
        "id": "atpSiOgejvur"
      },
      "source": [
        "# Basic Python"
      ]
    },
    {
      "cell_type": "markdown",
      "metadata": {
        "id": "FtVvfURej0Cq"
      },
      "source": [
        "## Menulis 'Hello World!!!'"
      ]
    },
    {
      "cell_type": "code",
      "metadata": {
        "colab": {
          "base_uri": "https://localhost:8080/"
        },
        "id": "64RyE8aPjtQn",
        "outputId": "4623ab2c-96e6-44a1-97dd-8bb3ff72cca9"
      },
      "source": [
        "print('Hello World!!!')"
      ],
      "execution_count": 1,
      "outputs": [
        {
          "output_type": "stream",
          "name": "stdout",
          "text": [
            "Hello World!!!\n"
          ]
        }
      ]
    },
    {
      "cell_type": "markdown",
      "metadata": {
        "id": "W3JTxu2qk_aa"
      },
      "source": [
        "## Default akhir dari fungsi print adalah newline (\\n)"
      ]
    },
    {
      "cell_type": "code",
      "metadata": {
        "colab": {
          "base_uri": "https://localhost:8080/"
        },
        "id": "MKFn33J8kBs0",
        "outputId": "82ab2c1a-c1b2-4631-dcd3-4e22e79c9210"
      },
      "source": [
        "print('Hello')\n",
        "print('world')"
      ],
      "execution_count": 2,
      "outputs": [
        {
          "output_type": "stream",
          "name": "stdout",
          "text": [
            "Hello\n",
            "world\n"
          ]
        }
      ]
    },
    {
      "cell_type": "markdown",
      "metadata": {
        "id": "pCsZzsH5lzkU"
      },
      "source": [
        "## Mengubah Default Akhir dari Fungsi print"
      ]
    },
    {
      "cell_type": "code",
      "metadata": {
        "colab": {
          "base_uri": "https://localhost:8080/"
        },
        "id": "w5amngnrlRsp",
        "outputId": "24eb5165-fb69-42a1-c551-1a102c4a899c"
      },
      "source": [
        "# Mengakhiri dengan whitespace\n",
        "print(\"hello\", end = \" \")\n",
        "print(\"world\")\n",
        "\n",
        "# Mengakhiri tanpa whitespace\n",
        "print(\"hello\", end = \"\")\n",
        "print(\"world\")"
      ],
      "execution_count": 3,
      "outputs": [
        {
          "output_type": "stream",
          "name": "stdout",
          "text": [
            "hello world\n",
            "helloworld\n"
          ]
        }
      ]
    },
    {
      "cell_type": "code",
      "metadata": {
        "id": "szcbEEIrmQs_"
      },
      "source": [
        ""
      ],
      "execution_count": null,
      "outputs": []
    }
  ]
}