{
  "nbformat": 4,
  "nbformat_minor": 0,
  "metadata": {
    "colab": {
      "name": "Week4_Homework2.ipynb",
      "provenance": []
    },
    "kernelspec": {
      "name": "python3",
      "display_name": "Python 3"
    },
    "language_info": {
      "name": "python"
    }
  },
  "cells": [
    {
      "cell_type": "markdown",
      "metadata": {
        "id": "xfuUqXCzQGPD"
      },
      "source": [
        "## Program Pola Segita Siku-Siku"
      ]
    },
    {
      "cell_type": "markdown",
      "metadata": {
        "id": "c0eOY2ktQhJM"
      },
      "source": [
        "Jamaludin Arif Rohman"
      ]
    },
    {
      "cell_type": "code",
      "metadata": {
        "colab": {
          "base_uri": "https://localhost:8080/"
        },
        "id": "SqSda8vnQAG9",
        "outputId": "4af303b8-e69b-4984-a8c7-67eb60ccf29b"
      },
      "source": [
        "x = int(input(\"Masukan Nilai Input: \"))\n",
        "for i in range(1,x+1):\n",
        "    for j in range(1,i+1):\n",
        "        print(j,end=' ')\n",
        "    print('')"
      ],
      "execution_count": 1,
      "outputs": [
        {
          "output_type": "stream",
          "name": "stdout",
          "text": [
            "Masukan Nilai Input: 3\n",
            "1 \n",
            "1 2 \n",
            "1 2 3 \n"
          ]
        }
      ]
    },
    {
      "cell_type": "code",
      "metadata": {
        "id": "UpCeN_gXQlkO"
      },
      "source": [
        ""
      ],
      "execution_count": null,
      "outputs": []
    }
  ]
}